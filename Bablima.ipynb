{
 "cells": [
  {
   "cell_type": "code",
   "execution_count": 1,
   "id": "16594b31",
   "metadata": {},
   "outputs": [
    {
     "name": "stdout",
     "output_type": "stream",
     "text": [
      "i\n",
      "n\n",
      "d\n",
      "o\n",
      "n\n",
      "e\n",
      "s\n",
      "i\n",
      "a\n"
     ]
    }
   ],
   "source": [
    "#contoh 5.1\n",
    "\n",
    "kata=\"indonesia\"\n",
    "for i in kata:\n",
    "    print(i)"
   ]
  },
  {
   "cell_type": "code",
   "execution_count": 2,
   "id": "8dd1dfe7",
   "metadata": {},
   "outputs": [
    {
     "name": "stdout",
     "output_type": "stream",
     "text": [
      "0\n",
      "1\n",
      "2\n",
      "3\n",
      "4\n"
     ]
    }
   ],
   "source": [
    "#contoh 5.2\n",
    "\n",
    "for i in range (5):\n",
    "    print(i)"
   ]
  },
  {
   "cell_type": "code",
   "execution_count": 3,
   "id": "1497e1e7",
   "metadata": {},
   "outputs": [
    {
     "name": "stdout",
     "output_type": "stream",
     "text": [
      "nama saya budi , saya cinta indonesia\n",
      "\n",
      "SEMUA CINTA INDONESIA\n",
      "nama saya budi , saya cinta indonesia\n",
      "\n",
      "SEMUA CINTA INDONESIA\n",
      "nama saya budi , saya cinta indonesia\n",
      "\n",
      "SEMUA CINTA INDONESIA\n",
      "nama saya agus , saya cinta indonesia\n",
      "\n",
      "SEMUA CINTA INDONESIA\n",
      "nama saya agus , saya cinta indonesia\n",
      "\n",
      "SEMUA CINTA INDONESIA\n",
      "nama saya agus , saya cinta indonesia\n",
      "\n",
      "SEMUA CINTA INDONESIA\n",
      "nama saya joko , saya cinta indonesia\n",
      "\n",
      "SEMUA CINTA INDONESIA\n",
      "nama saya joko , saya cinta indonesia\n",
      "\n",
      "SEMUA CINTA INDONESIA\n",
      "nama saya joko , saya cinta indonesia\n",
      "\n",
      "SEMUA CINTA INDONESIA\n"
     ]
    }
   ],
   "source": [
    "#contoh 5.3\n",
    "\n",
    "nama = {\"agus\", \"budi\", \"joko\"}\n",
    "for i in nama:\n",
    "    for n in range (3):\n",
    "        print (\"nama saya\", i ,\", saya cinta indonesia\")\n",
    "        print ()\n",
    "        print (\"SEMUA CINTA INDONESIA\")"
   ]
  },
  {
   "cell_type": "code",
   "execution_count": 4,
   "id": "7f61be41",
   "metadata": {},
   "outputs": [
    {
     "name": "stdout",
     "output_type": "stream",
     "text": [
      "toyota\n",
      "6\n",
      "honda\n",
      "5\n",
      "suzuki\n",
      "6\n"
     ]
    }
   ],
   "source": [
    "#contoh 5.4\n",
    "\n",
    "mobil = [\"toyota\", \"honda\", \"suzuki\"]\n",
    "angkutan = [\"pesawat\", \"kereta - api\", \"kapal - laut\"]\n",
    "\n",
    "for b in mobil:\n",
    "    print(b)\n",
    "    print(len(b))"
   ]
  },
  {
   "cell_type": "code",
   "execution_count": 5,
   "id": "05187bbc",
   "metadata": {},
   "outputs": [
    {
     "name": "stdout",
     "output_type": "stream",
     "text": [
      "['toyota', 'honda', 'suzuki']\n",
      "['pesawat', 'kereta - api', 'kapal - laut']\n",
      "selese\n"
     ]
    }
   ],
   "source": [
    "#contoh 5.5\n",
    "\n",
    "\n",
    "\n",
    "mobil = [\"toyota\", \"honda\", \"suzuki\"]\n",
    "angkutan = [\"pesawat\", \"kereta - api\", \"kapal - laut\"]\n",
    "\n",
    "daftar = [mobil, angkutan]\n",
    "for subdaftar in daftar:\n",
    "    print(subdaftar)\n",
    "print(\"selese\")\n",
    "\n",
    "#for b in mobil:\n",
    "    #print(b)\n",
    "    #print(len(b))"
   ]
  },
  {
   "cell_type": "code",
   "execution_count": 6,
   "id": "e03d7f3c",
   "metadata": {},
   "outputs": [
    {
     "name": "stdout",
     "output_type": "stream",
     "text": [
      "['toyota', 'honda', 'suzuki']\n",
      "toyota\n",
      "honda\n",
      "suzuki\n",
      "['pesawat', 'kereta - api', 'kapal - laut']\n",
      "pesawat\n",
      "kereta - api\n",
      "kapal - laut\n"
     ]
    }
   ],
   "source": [
    "#contoh 5.6\n",
    "\n",
    "mobil = [\"toyota\", \"honda\", \"suzuki\"]\n",
    "angkutan = [\"pesawat\", \"kereta - api\", \"kapal - laut\"]\n",
    "\n",
    "daftar = [mobil, angkutan]\n",
    "for subdaftar in daftar:\n",
    "    print(subdaftar)\n",
    "    for komponen in subdaftar:\n",
    "        print(komponen)\n",
    "\n",
    "\n",
    "#for b in mobil:\n",
    "#print(b)\n",
    "#print(len(b))"
   ]
  },
  {
   "cell_type": "code",
   "execution_count": 7,
   "id": "60fa1095",
   "metadata": {},
   "outputs": [
    {
     "name": "stdout",
     "output_type": "stream",
     "text": [
      "Data suhu  35 °\n",
      "Data suhu  33 °\n",
      "Data suhu  33 °\n",
      "Data suhu  34 °\n",
      "Data suhu  30 °\n",
      "Data suhu  29 °\n",
      "Data suhu  27 °\n",
      "Data suhu  26 °\n",
      "Data suhu  27 °\n"
     ]
    }
   ],
   "source": [
    "#contoh 5.8\n",
    "\n",
    "data_suhu = [35,33,33,34,30,29,27,26,24,27]\n",
    "for i in data_suhu:\n",
    "    if i < 25:\n",
    "        continue\n",
    "    print(\"Data suhu \", i,\"\\u00B0\")"
   ]
  },
  {
   "cell_type": "code",
   "execution_count": 8,
   "id": "91c0bba3",
   "metadata": {},
   "outputs": [
    {
     "name": "stdout",
     "output_type": "stream",
     "text": [
      "Data suhu  35 °\n",
      "Data suhu  33 °\n",
      "Data suhu  33 °\n",
      "Data suhu  34 °\n",
      "Data suhu  30 °\n",
      "Data suhu  29 °\n",
      "Data suhu  27 °\n",
      "Data suhu  26 °\n"
     ]
    }
   ],
   "source": [
    "#contoh 5.9\n",
    "\n",
    "data_suhu = [35,33,33,34,30,29,27,\n",
    "26,24,27]\n",
    "for i in data_suhu:\n",
    "    if i < 25:\n",
    "        break\n",
    "    print(\"Data suhu \", i,\"\\u00B0\")"
   ]
  },
  {
   "cell_type": "code",
   "execution_count": 9,
   "id": "a432d4e3",
   "metadata": {},
   "outputs": [
    {
     "name": "stdout",
     "output_type": "stream",
     "text": [
      "Angka dan jumlahnya:\n",
      "1\n",
      "2\n",
      "3\n",
      "4\n",
      "5\n",
      "Jumlah = 15\n"
     ]
    }
   ],
   "source": [
    "#contoh 5.11\n",
    "\n",
    "batas_angka = 5\n",
    "jumlah = 0\n",
    "i = 1\n",
    "print(\"Angka dan jumlahnya:\")\n",
    "while i <= batas_angka:\n",
    "    print(i)\n",
    "    jumlah = jumlah + i\n",
    "    i = i + 1\n",
    "    \n",
    "print(\"Jumlah =\",jumlah)"
   ]
  },
  {
   "cell_type": "code",
   "execution_count": 1,
   "id": "5b994138",
   "metadata": {},
   "outputs": [
    {
     "name": "stdout",
     "output_type": "stream",
     "text": [
      "Angka dan jumlahnya:\n",
      "1\n",
      "2\n",
      "3\n",
      "4\n",
      "5\n",
      "Jumlah = 15\n"
     ]
    }
   ],
   "source": [
    "#contoh 5.12\n",
    "\n",
    "batas_angka = 5\n",
    "jumlah = 0\n",
    "i = 1\n",
    "\n",
    "print(\"Angka dan jumlahnya:\")\n",
    "while i <= batas_angka:\n",
    "    print(i)\n",
    "    jumlah = jumlah + i\n",
    "    i = i + 1\n",
    "print(\"Jumlah =\",jumlah)"
   ]
  },
  {
   "cell_type": "code",
   "execution_count": 2,
   "id": "373e2bc7",
   "metadata": {},
   "outputs": [
    {
     "name": "stdout",
     "output_type": "stream",
     "text": [
      "Masukkan angka atau tekan ENTER untuk keluar : 5\n",
      "Masukkan angka atau tekan ENTER untuk keluar : \n",
      "Jumlah masukan : 1\n",
      "Total masukan : 5.00\n",
      "Rerata masukan : 5.00\n"
     ]
    }
   ],
   "source": [
    "#contoh 5.14\n",
    "\n",
    "total = 0.0\n",
    "i = 0\n",
    "masukan = input(\"Masukkan angka atau tekan ENTER untuk keluar : \")\n",
    "while masukan != \"\":\n",
    "    angka = float(masukan)\n",
    "    total = total + angka\n",
    "    i = i+1\n",
    "    masukan = input(\"Masukkan angka atau tekan ENTER untuk keluar : \")\n",
    "    \n",
    "rerata = total/i\n",
    "print(\"Jumlah masukan :\", i)\n",
    "print(\"Total masukan :\", format(total,'.2f'))\n",
    "print(\"Rerata masukan :\", format(rerata,'.2f'))"
   ]
  },
  {
   "cell_type": "code",
   "execution_count": null,
   "id": "7c0a5092",
   "metadata": {},
   "outputs": [],
   "source": []
  }
 ],
 "metadata": {
  "kernelspec": {
   "display_name": "Python 3 (ipykernel)",
   "language": "python",
   "name": "python3"
  },
  "language_info": {
   "codemirror_mode": {
    "name": "ipython",
    "version": 3
   },
   "file_extension": ".py",
   "mimetype": "text/x-python",
   "name": "python",
   "nbconvert_exporter": "python",
   "pygments_lexer": "ipython3",
   "version": "3.9.13"
  }
 },
 "nbformat": 4,
 "nbformat_minor": 5
}
