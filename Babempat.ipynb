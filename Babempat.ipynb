{
 "cells": [
  {
   "cell_type": "code",
   "execution_count": 1,
   "id": "c9fe4a74",
   "metadata": {},
   "outputs": [
    {
     "name": "stdout",
     "output_type": "stream",
     "text": [
      "Bilangan Positif\n",
      "Ini adalah uji bilangan POSITIF\n"
     ]
    }
   ],
   "source": [
    "#contoh 4.1\n",
    "\n",
    "bilangan = 5\n",
    "if bilangan > 0 :\n",
    "    print(\"Bilangan Positif\")\n",
    "print(\"Ini adalah uji bilangan POSITIF\")"
   ]
  },
  {
   "cell_type": "code",
   "execution_count": 2,
   "id": "99be1b10",
   "metadata": {},
   "outputs": [
    {
     "name": "stdout",
     "output_type": "stream",
     "text": [
      "Dua ekspresi tersebut, BENAR\n"
     ]
    }
   ],
   "source": [
    "#contoh 4.2\n",
    "\n",
    "a = 25\n",
    "b = 60\n",
    "c = 2\n",
    "if b > a and b > c:\n",
    "    print(\"Dua ekspresi tersebut, BENAR\")"
   ]
  },
  {
   "cell_type": "code",
   "execution_count": 3,
   "id": "587edb1b",
   "metadata": {},
   "outputs": [
    {
     "name": "stdout",
     "output_type": "stream",
     "text": [
      "BENAR karena salah satu ekspresi tersebut benar\n"
     ]
    }
   ],
   "source": [
    "#contoh 4.3\n",
    "\n",
    "a = 25\n",
    "b = 60\n",
    "c = 2\n",
    "if b > a or c > b:\n",
    "    print(\"BENAR karena salah satu ekspresi tersebut benar\")\n"
   ]
  },
  {
   "cell_type": "code",
   "execution_count": 4,
   "id": "c7c419b2",
   "metadata": {},
   "outputs": [
    {
     "name": "stdout",
     "output_type": "stream",
     "text": [
      "Bilangan Positif\n",
      "Ini adalah uji bilangan\n"
     ]
    }
   ],
   "source": [
    "#contoh 4.4\n",
    "\n",
    "bilangan = 10\n",
    "if bilangan >= 0 :\n",
    "    print(\"Bilangan Positif\")\n",
    "else:\n",
    "    print(\"Bilangan Negatif\")\n",
    "print(\"Ini adalah uji bilangan\")\n"
   ]
  },
  {
   "cell_type": "code",
   "execution_count": 5,
   "id": "a9489dd7",
   "metadata": {},
   "outputs": [
    {
     "name": "stdout",
     "output_type": "stream",
     "text": [
      "Nol\n",
      "Ini adalah uji bilangan\n"
     ]
    }
   ],
   "source": [
    "#contoh 4.5\n",
    "\n",
    "bilangan = 0\n",
    "if bilangan > 0 :\n",
    "    print(\"Bilangan Positif\")\n",
    "elif bilangan == 0 :\n",
    "    print(\"Nol\")\n",
    "else:\n",
    "    print(\"Bilangan Negatif\")\n",
    "print(\"Ini adalah uji bilangan\")"
   ]
  },
  {
   "cell_type": "code",
   "execution_count": 6,
   "id": "b3808ae4",
   "metadata": {},
   "outputs": [
    {
     "name": "stdout",
     "output_type": "stream",
     "text": [
      "Nilai anda 0.6 berarti E\n",
      "Selamat Belajar\n"
     ]
    }
   ],
   "source": [
    "#contoh 4.7\n",
    "\n",
    "nilai = 0.6\n",
    "if nilai >= 4.0:\n",
    "    print(\"Nilai anda\", nilai,\"berarti A\")\n",
    "elif (nilai >= 3.5) and (nilai < 4.0):\n",
    "    print(\"Nilai anda\", nilai,\"berarti B+\")\n",
    "elif (nilai >= 3.0) and (nilai < 3.5):\n",
    "    print(\"Nilai anda\", nilai,\"berarti B\")\n",
    "elif (nilai >= 2.5) and (nilai < 3.0):\n",
    "    print(\"Nilai anda\", nilai,\"berarti C+\")\n",
    "elif (nilai >= 2.0) and (nilai < 2.5):\n",
    "    print(\"Nilai anda\", nilai,\"berarti C\")\n",
    "elif (nilai >= 1.5) and (nilai < 2.0):\n",
    "    print(\"Nilai anda\", nilai,\"berarti D+\")\n",
    "elif (nilai >= 1.0) and (nilai < 1.5):\n",
    "    print(\"Nilai anda\", nilai,\"berarti D\")\n",
    "else:\n",
    "    print(\"Nilai anda\", nilai, \"berarti E\")\n",
    "    \n",
    "print(\"Selamat Belajar\")"
   ]
  },
  {
   "cell_type": "code",
   "execution_count": 7,
   "id": "e243ca90",
   "metadata": {},
   "outputs": [
    {
     "name": "stdout",
     "output_type": "stream",
     "text": [
      "maaf, saudara tidak bisa mendaftar karena jenjang tidak s1\n"
     ]
    }
   ],
   "source": [
    "#contoh 4.9\n",
    "\n",
    "jenjang = \"d3\"\n",
    "ip = 3.49\n",
    "if jenjang == \"s1\":\n",
    "    if 3.75 <= ip <= 4.0:\n",
    "        print (\"saudara, bisa mendaftar 2 jenis beasiswa\")\n",
    "    elif 3.5 <= ip < 3.75:\n",
    "        print (\"saudara, bisa mendaftar 1 jenis beasiswa\")\n",
    "    else:\n",
    "        print (\"maaf, saudara tidak bisa mendaftar karena ip tidak mencukupi\")\n",
    "else:\n",
    "        print (\"maaf, saudara tidak bisa mendaftar karena jenjang tidak s1\")"
   ]
  },
  {
   "cell_type": "code",
   "execution_count": null,
   "id": "3dbc9d7b",
   "metadata": {},
   "outputs": [],
   "source": []
  }
 ],
 "metadata": {
  "kernelspec": {
   "display_name": "Python 3 (ipykernel)",
   "language": "python",
   "name": "python3"
  },
  "language_info": {
   "codemirror_mode": {
    "name": "ipython",
    "version": 3
   },
   "file_extension": ".py",
   "mimetype": "text/x-python",
   "name": "python",
   "nbconvert_exporter": "python",
   "pygments_lexer": "ipython3",
   "version": "3.9.13"
  }
 },
 "nbformat": 4,
 "nbformat_minor": 5
}
