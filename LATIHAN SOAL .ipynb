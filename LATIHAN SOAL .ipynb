{
 "cells": [
  {
   "cell_type": "code",
   "execution_count": 2,
   "id": "a1d9b49d",
   "metadata": {},
   "outputs": [
    {
     "name": "stdout",
     "output_type": "stream",
     "text": [
      "masukan berapa suku pertama yang di kehendaki:20\n",
      "1,3,5,7,9,11,13,15,17,19,21,23,25,27,29,31,33,35,37,39,"
     ]
    }
   ],
   "source": [
    "#latihan soal 6.1\n",
    "\n",
    "def tampilkan_ganjil(batas):\n",
    "    i=1\n",
    "    while i <= batas:\n",
    "        ganjil = 2*i-1\n",
    "        print(ganjil, end=',')\n",
    "        i = i+1\n",
    "n = int(input(\"masukan berapa suku pertama yang di kehendaki:\"))\n",
    "tampilkan_ganjil(n)"
   ]
  },
  {
   "cell_type": "code",
   "execution_count": 2,
   "id": "4835ad7e",
   "metadata": {},
   "outputs": [
    {
     "name": "stdout",
     "output_type": "stream",
     "text": [
      "masukkan sembarang kalimat:halo aaaa\n",
      "masukkan huruf yang dihitung:a\n",
      "jumlah huruf a adalah 5\n"
     ]
    }
   ],
   "source": [
    "#latihan soal 6.2\n",
    "\n",
    "def hitung(kal, hrf):\n",
    "    jumlah = 0\n",
    "    for i in kal:\n",
    "        if i == hrf:\n",
    "            jumlah = jumlah + 1\n",
    "    print(\"jumlah huruf\",hrf,\"adalah\",jumlah)\n",
    "            \n",
    "kalimat = input(\"masukkan sembarang kalimat:\")\n",
    "huruf = input(\"masukkan huruf yang dihitung:\")\n",
    "hitung(kalimat, huruf)"
   ]
  },
  {
   "cell_type": "code",
   "execution_count": 3,
   "id": "32d2a0b4",
   "metadata": {},
   "outputs": [
    {
     "name": "stdout",
     "output_type": "stream",
     "text": [
      "mean 14.714285714285714\n",
      "median 12.0\n"
     ]
    }
   ],
   "source": [
    "#latihan soal 6.3\n",
    "\n",
    "import numpy as np\n",
    "\n",
    "datanya = [2,18,12,23,4,6,38]\n",
    "\n",
    "#mean value\n",
    "mean = np.mean(datanya)\n",
    "\n",
    "#median value\n",
    "median = np.median(datanya)\n",
    "\n",
    "print(\"mean\", mean)\n",
    "print(\"median\", median)\n"
   ]
  },
  {
   "cell_type": "code",
   "execution_count": null,
   "id": "82782863",
   "metadata": {},
   "outputs": [],
   "source": []
  }
 ],
 "metadata": {
  "kernelspec": {
   "display_name": "Python 3 (ipykernel)",
   "language": "python",
   "name": "python3"
  },
  "language_info": {
   "codemirror_mode": {
    "name": "ipython",
    "version": 3
   },
   "file_extension": ".py",
   "mimetype": "text/x-python",
   "name": "python",
   "nbconvert_exporter": "python",
   "pygments_lexer": "ipython3",
   "version": "3.9.13"
  }
 },
 "nbformat": 4,
 "nbformat_minor": 5
}
