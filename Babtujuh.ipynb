{
 "cells": [
  {
   "cell_type": "code",
   "execution_count": 1,
   "id": "57d18b65",
   "metadata": {},
   "outputs": [
    {
     "name": "stdout",
     "output_type": "stream",
     "text": [
      "Masukkan sebuah nama: Andrian Maulana\n",
      "Nama yang diinput :  Andrian Maulana\n"
     ]
    }
   ],
   "source": [
    "#contoh 7.2\n",
    "\n",
    "nama = input('Masukkan sebuah nama: ')\n",
    "print('Nama yang di input : ', nama)"
   ]
  },
  {
   "cell_type": "code",
   "execution_count": 2,
   "id": "90a2230d",
   "metadata": {},
   "outputs": [
    {
     "name": "stdout",
     "output_type": "stream",
     "text": [
      "Dia mengatakan, 'Selamat Belajar'\n",
      "Dia mengatakan, \"Selamat Belajar\"\n",
      "Dia mengatakan, \"Selamat Belajar\"\n",
      "Dia mengatakan, 'Selamat Belajar'\n",
      "Dia mengatakan, 'Selamat Belajar' \n",
      "Dia mengatakan, \"Selamat Belajar\" \n"
     ]
    }
   ],
   "source": [
    "#contoh 7.3\n",
    "\n",
    "print(\"Dia mengatakan, 'Selamat Belajar'\")\n",
    "print('Dia mengatakan, \"Selamat Belajar\"')\n",
    "print(\"Dia mengatakan, \\\"Selamat Belajar\\\"\")\n",
    "print('Dia mengatakan, \\'Selamat Belajar\\'')\n",
    "print('''Dia mengatakan, 'Selamat Belajar' ''')\n",
    "print(\"\"\"Dia mengatakan, \"Selamat Belajar\" \"\"\")"
   ]
  },
  {
   "cell_type": "code",
   "execution_count": 3,
   "id": "acd7192e",
   "metadata": {},
   "outputs": [
    {
     "name": "stdout",
     "output_type": "stream",
     "text": [
      "I , J ,   , A\n"
     ]
    }
   ],
   "source": [
    "#contoh 7.4\n",
    "\n",
    "kalimat = \"INDONESIA JAYA\"\n",
    "print(kalimat[0],\",\", kalimat[10],\",\", kalimat[-5],\",\", kalimat[-1])"
   ]
  },
  {
   "cell_type": "code",
   "execution_count": 7,
   "id": "3ae6273f",
   "metadata": {},
   "outputs": [
    {
     "name": "stdout",
     "output_type": "stream",
     "text": [
      "SIA\n"
     ]
    }
   ],
   "source": [
    "#contoh 7.5\n",
    "\n",
    "kalimat =\"INDONESIA JAYA\"\n",
    "print(kalimat[6:9])"
   ]
  },
  {
   "cell_type": "code",
   "execution_count": 8,
   "id": "63dcb30f",
   "metadata": {},
   "outputs": [
    {
     "name": "stdout",
     "output_type": "stream",
     "text": [
      "INDONESIA\n"
     ]
    }
   ],
   "source": [
    "#contoh 7.6\n",
    "\n",
    "kalimat =\"INDONESIA JAYA\"\n",
    "print(kalimat[:9])"
   ]
  },
  {
   "cell_type": "code",
   "execution_count": 9,
   "id": "3f942801",
   "metadata": {},
   "outputs": [
    {
     "name": "stdout",
     "output_type": "stream",
     "text": [
      "JAYA\n"
     ]
    }
   ],
   "source": [
    "#contoh 7.7\n",
    "\n",
    "kalimat =\"INDONESIA JAYA\"\n",
    "print(kalimat[10:])"
   ]
  },
  {
   "cell_type": "code",
   "execution_count": 10,
   "id": "48063d24",
   "metadata": {},
   "outputs": [
    {
     "name": "stdout",
     "output_type": "stream",
     "text": [
      "JAYA\n"
     ]
    }
   ],
   "source": [
    "#contoh 7.8\n",
    "\n",
    "kalimat =\"INDONESIA JAYA\"\n",
    "print(kalimat[-4:])"
   ]
  },
  {
   "cell_type": "code",
   "execution_count": 11,
   "id": "c1169c63",
   "metadata": {},
   "outputs": [
    {
     "name": "stdout",
     "output_type": "stream",
     "text": [
      "INDONESIA JAY\n"
     ]
    }
   ],
   "source": [
    "#contoh 7.9\n",
    "\n",
    "kalimat =\"INDONESIA JAYA\"\n",
    "print(kalimat[:-1])"
   ]
  },
  {
   "cell_type": "code",
   "execution_count": 12,
   "id": "1359af19",
   "metadata": {},
   "outputs": [
    {
     "name": "stdout",
     "output_type": "stream",
     "text": [
      "NESI\n"
     ]
    }
   ],
   "source": [
    "#contoh 7.10\n",
    "\n",
    "kalimat =\"INDONESIA JAYA\"\n",
    "print(kalimat[-10:-6])"
   ]
  },
  {
   "cell_type": "code",
   "execution_count": 13,
   "id": "f6d33cf4",
   "metadata": {},
   "outputs": [
    {
     "name": "stdout",
     "output_type": "stream",
     "text": [
      "INDONESIA JAYA\n"
     ]
    }
   ],
   "source": [
    "#contoh 7.11\n",
    "\n",
    "kalimat =\"INDONESIA JAYA\"\n",
    "print(kalimat[:])"
   ]
  },
  {
   "cell_type": "code",
   "execution_count": 14,
   "id": "53f9973f",
   "metadata": {},
   "outputs": [
    {
     "name": "stdout",
     "output_type": "stream",
     "text": [
      "INDONESIA JAYA\n"
     ]
    }
   ],
   "source": [
    "#contoh 7.12\n",
    "\n",
    "kata_1 = \"INDONESIA\"\n",
    "kata_2 = \"JAYA\"\n",
    "gabung_kata = kata_1+\" \"+kata_2\n",
    "print(gabung_kata)"
   ]
  },
  {
   "cell_type": "code",
   "execution_count": 15,
   "id": "b51463de",
   "metadata": {},
   "outputs": [
    {
     "name": "stdout",
     "output_type": "stream",
     "text": [
      "14\n"
     ]
    }
   ],
   "source": [
    "#contoh 7.13\n",
    "\n",
    "kalimat = \"INDONESIA JAYA\"\n",
    "print(len(kalimat))"
   ]
  },
  {
   "cell_type": "code",
   "execution_count": 16,
   "id": "4b871d8a",
   "metadata": {},
   "outputs": [
    {
     "name": "stdout",
     "output_type": "stream",
     "text": [
      "Indonesia jaya\n"
     ]
    }
   ],
   "source": [
    "#contoh 7.14\n",
    "\n",
    "kalimat = \"INDONESIA JAYA\"\n",
    "print(kalimat.capitalize())"
   ]
  },
  {
   "cell_type": "code",
   "execution_count": 17,
   "id": "689b68d8",
   "metadata": {},
   "outputs": [
    {
     "name": "stdout",
     "output_type": "stream",
     "text": [
      "INDONESIA JAYA\n"
     ]
    }
   ],
   "source": [
    "#contoh 7.15\n",
    "\n",
    "kalimat = \"indonesia jaya\"\n",
    "print(kalimat.upper())"
   ]
  },
  {
   "cell_type": "code",
   "execution_count": 18,
   "id": "2a48c322",
   "metadata": {},
   "outputs": [
    {
     "name": "stdout",
     "output_type": "stream",
     "text": [
      "indonesia jaya\n"
     ]
    }
   ],
   "source": [
    "#contoh 7.16\n",
    "\n",
    "kalimat = \"INDONESIA JAYA\"\n",
    "print(kalimat.lower())"
   ]
  },
  {
   "cell_type": "code",
   "execution_count": 19,
   "id": "5258792b",
   "metadata": {},
   "outputs": [
    {
     "name": "stdout",
     "output_type": "stream",
     "text": [
      "Indonesia Jaya\n"
     ]
    }
   ],
   "source": [
    "#contoh 7.17\n",
    "\n",
    "kalimat = \"INDONESIA JAYA\"\n",
    "print(kalimat.title())"
   ]
  },
  {
   "cell_type": "code",
   "execution_count": 20,
   "id": "a28608ab",
   "metadata": {},
   "outputs": [
    {
     "name": "stdout",
     "output_type": "stream",
     "text": [
      "INDONESIA MERDEKA\n"
     ]
    }
   ],
   "source": [
    "#contoh 7.18\n",
    "\n",
    "kalimat = \"INDONESIA JAYA\"\n",
    "print(kalimat.replace(\"JAYA\", \"MERDEKA\"))"
   ]
  },
  {
   "cell_type": "code",
   "execution_count": 21,
   "id": "81d2288b",
   "metadata": {},
   "outputs": [
    {
     "name": "stdout",
     "output_type": "stream",
     "text": [
      "           INDONESIA JAYA\n",
      "INDONESIA JAYA           \n",
      "      INDONESIA JAYA     \n"
     ]
    }
   ],
   "source": [
    "#contoh 7.19\n",
    "\n",
    "kalimat = \"INDONESIA JAYA\"\n",
    "print(kalimat.rjust(25))\n",
    "print(kalimat.ljust(25))\n",
    "print(kalimat.center(25))"
   ]
  },
  {
   "cell_type": "code",
   "execution_count": 22,
   "id": "4f513ea2",
   "metadata": {},
   "outputs": [
    {
     "name": "stdout",
     "output_type": "stream",
     "text": [
      "10\n",
      "JAYA\n"
     ]
    }
   ],
   "source": [
    "#contoh 7.20\n",
    "#\n",
    "\n",
    "kalimat = \"INDONESIA JAYA\"\n",
    "print(kalimat.find(\"J\"))\n",
    "print(kalimat[kalimat.find(\" \")+1:])"
   ]
  },
  {
   "cell_type": "code",
   "execution_count": 23,
   "id": "bf8c887f",
   "metadata": {},
   "outputs": [
    {
     "name": "stdout",
     "output_type": "stream",
     "text": [
      "6\n",
      "2\n"
     ]
    }
   ],
   "source": [
    "#contoh 7.21\n",
    "\n",
    "kalimat = \"INDONESIA TETAP JAYA JAYA\"\n",
    "print(kalimat.count(\"A\"))\n",
    "print(kalimat.count(\"JA\"))"
   ]
  },
  {
   "cell_type": "code",
   "execution_count": 24,
   "id": "fcaf570d",
   "metadata": {},
   "outputs": [
    {
     "name": "stdout",
     "output_type": "stream",
     "text": [
      "Hallo Hallo Hallo ...selamat pagi...\n"
     ]
    }
   ],
   "source": [
    "#contoh 7.22\n",
    "\n",
    "kata = \"Hallo \"\n",
    "print(kata*3+\"...selamat pagi...\")"
   ]
  },
  {
   "cell_type": "code",
   "execution_count": 25,
   "id": "25c6d1ef",
   "metadata": {},
   "outputs": [
    {
     "name": "stdout",
     "output_type": "stream",
     "text": [
      "['INDONESIA', 'TETAP', 'JAYA', 'JAYA']\n"
     ]
    }
   ],
   "source": [
    "#contoh 7.23\n",
    "\n",
    "kalimat = \"INDONESIA TETAP JAYA JAYA\"\n",
    "print(kalimat.split())"
   ]
  },
  {
   "cell_type": "code",
   "execution_count": 27,
   "id": "af674744",
   "metadata": {},
   "outputs": [
    {
     "name": "stdout",
     "output_type": "stream",
     "text": [
      "Semarang\n"
     ]
    }
   ],
   "source": [
    "#contoh 7.24\n",
    "\n",
    "contoh_list = [\"Bogor\",\"Semarang\",\"Manado\",\"Palembang\",\"Wamena\"]\n",
    "print(contoh_list[1])"
   ]
  },
  {
   "cell_type": "code",
   "execution_count": 29,
   "id": "ca6ba42d",
   "metadata": {},
   "outputs": [
    {
     "name": "stdout",
     "output_type": "stream",
     "text": [
      "Palembang\n"
     ]
    }
   ],
   "source": [
    "#contoh 7.25\n",
    "\n",
    "contoh_list = [\"Bogor\",\"Semarang\",\"Manado\",\"Palembang\",\"Wamena\"]\n",
    "print(contoh_list[-2])"
   ]
  },
  {
   "cell_type": "code",
   "execution_count": 31,
   "id": "1cf11d16",
   "metadata": {
    "scrolled": true
   },
   "outputs": [
    {
     "name": "stdout",
     "output_type": "stream",
     "text": [
      "['Bogor', 'Semarang', 'Manado']\n"
     ]
    }
   ],
   "source": [
    "#contoh 7.26\n",
    "contoh_list = [\"Bogor\",\"Semarang\",\"Manado\",\"Palembang\",\"Wamena\"]\n",
    "print(contoh_list[0:3])"
   ]
  },
  {
   "cell_type": "code",
   "execution_count": 32,
   "id": "5735da68",
   "metadata": {},
   "outputs": [
    {
     "name": "stdout",
     "output_type": "stream",
     "text": [
      "['Bogor', 'Semarang', 'Balikpapan', 'Palembang', 'Wamena']\n"
     ]
    }
   ],
   "source": [
    "#contoh 7.27\n",
    "\n",
    "contoh_list = [\"Bogor\",\"Semarang\",\"Manado\",\"Palembang\",\"Wamena\"]\n",
    "contoh_list[2] = \"Balikpapan\"\n",
    "print(contoh_list)"
   ]
  },
  {
   "cell_type": "code",
   "execution_count": 38,
   "id": "d408bd84",
   "metadata": {},
   "outputs": [
    {
     "name": "stdout",
     "output_type": "stream",
     "text": [
      "Kota ke- 1 adalah Bogor\n",
      "Kota ke- 2 adalah Semarang\n",
      "Kota ke- 3 adalah Manado\n",
      "Kota ke- 4 adalah Palembang\n",
      "Kota ke- 5 adalah Wamena\n"
     ]
    }
   ],
   "source": [
    "#contoh 7.29\n",
    "\n",
    "contoh_list = [\"Bogor\",\"Semarang\",\"Manado\",\"Palembang\",\"Wamena\"]\n",
    "for i, d in enumerate (contoh_list):\n",
    "    print(\"Kota ke-\",i+1,\"adalah\",d)"
   ]
  },
  {
   "cell_type": "code",
   "execution_count": 34,
   "id": "c7a2078e",
   "metadata": {},
   "outputs": [
    {
     "name": "stdout",
     "output_type": "stream",
     "text": [
      "['Bogor', 'Semarang', 'Kediri', 'Manado', 'Palembang', 'Wamena']\n"
     ]
    }
   ],
   "source": [
    "#contoh 7.31\n",
    "\n",
    "contoh_list = [\"Bogor\",\"Semarang\",\"Manado\",\"Palembang\",\"Wamena\"]\n",
    "contoh_list.insert(2,\"Kediri\")\n",
    "print(contoh_list)"
   ]
  },
  {
   "cell_type": "code",
   "execution_count": 35,
   "id": "02c39510",
   "metadata": {},
   "outputs": [
    {
     "name": "stdout",
     "output_type": "stream",
     "text": [
      "['Bogor', 'Semarang', 'Manado', 'Palembang']\n"
     ]
    }
   ],
   "source": [
    "#contoh 7.33\n",
    "\n",
    "contoh_list = [\"Bogor\",\"Semarang\",\"Manado\",\"Palembang\",\"Wamena\"]\n",
    "contoh_list.pop()\n",
    "print(contoh_list)"
   ]
  },
  {
   "cell_type": "code",
   "execution_count": 36,
   "id": "025fd3df",
   "metadata": {},
   "outputs": [
    {
     "name": "stdout",
     "output_type": "stream",
     "text": [
      "['Bogor', 'Semarang', 'Manado', 'Palembang', 'Wamena']\n",
      "['Bogor', 'Semarang', 'Manado', 'Palembang', 'Wamena']\n"
     ]
    }
   ],
   "source": [
    "#contoh 7.35\n",
    "\n",
    "contoh_list = [\"Bogor\",\"Semarang\",\"Manado\",\"Palembang\",\"Wamena\"]\n",
    "baru_list = contoh_list.copy()\n",
    "print(contoh_list)\n",
    "print(baru_list)"
   ]
  },
  {
   "cell_type": "code",
   "execution_count": 37,
   "id": "f08b0af6",
   "metadata": {},
   "outputs": [
    {
     "name": "stdout",
     "output_type": "stream",
     "text": [
      "['Bogor', 'Semarang', 'Manado', 'Palembang', 'Wamena', 'F', 'H', 'DB', 'BG', 'PA']\n"
     ]
    }
   ],
   "source": [
    "#contoh 7.36\n",
    "\n",
    "kota_list = [\"Bogor\",\"Semarang\",\"Manado\",\"Palembang\",\"Wamena\"]\n",
    "kendaraan_list = [\"F\",\"H\",\"DB\",\"BG\",\"PA\"]\n",
    "print(kota_list+kendaraan_list)"
   ]
  },
  {
   "cell_type": "code",
   "execution_count": 40,
   "id": "921d40be",
   "metadata": {},
   "outputs": [
    {
     "name": "stdout",
     "output_type": "stream",
     "text": [
      "Kota Bogor berplat F\n",
      "Kota Semarang berplat H\n",
      "Kota Manado berplat DB\n",
      "Kota Palembang berplat BG\n",
      "Kota Wamena berplat PA\n"
     ]
    }
   ],
   "source": [
    "#ontoh 7.37\n",
    "\n",
    "kota_list = [\"Bogor\",\"Semarang\",\"Manado\",\"Palembang\",\"Wamena\"]\n",
    "kendaraan_list = [\"F\",\"H\",\"DB\",\"BG\",\"PA\"]\n",
    "for m, n in zip(kota_list, kendaraan_list):\n",
    "    print('Kota', m,'berplat',n)"
   ]
  },
  {
   "cell_type": "code",
   "execution_count": 42,
   "id": "f1e544fc",
   "metadata": {},
   "outputs": [
    {
     "name": "stdout",
     "output_type": "stream",
     "text": [
      "tuple_1[0]= Sosiologi\n",
      "tuple_2[0:4]= (1, 2, 3, 4)\n"
     ]
    }
   ],
   "source": [
    "#contoh 7.38\n",
    "\n",
    "tuple_1 = (\"Sosiologi\", \"Kimia\", \"Ekonomi\", \"Bahasa Indonesia\", \"Matematika\")\n",
    "tuple_2 = (1, 2, 3, 4, 5)\n",
    "print(\"tuple_1[0]=\",tuple_1[0])\n",
    "print(\"tuple_2[0:4]=\",tuple_2[0:4])"
   ]
  },
  {
   "cell_type": "code",
   "execution_count": 43,
   "id": "61f4eea9",
   "metadata": {},
   "outputs": [
    {
     "ename": "TypeError",
     "evalue": "'tuple' object does not support item assignment",
     "output_type": "error",
     "traceback": [
      "\u001b[1;31m---------------------------------------------------------------------------\u001b[0m",
      "\u001b[1;31mTypeError\u001b[0m                                 Traceback (most recent call last)",
      "Input \u001b[1;32mIn [43]\u001b[0m, in \u001b[0;36m<cell line: 5>\u001b[1;34m()\u001b[0m\n\u001b[0;32m      3\u001b[0m tuple_1 \u001b[38;5;241m=\u001b[39m (\u001b[38;5;124m\"\u001b[39m\u001b[38;5;124mSosiologi\u001b[39m\u001b[38;5;124m\"\u001b[39m, \u001b[38;5;124m\"\u001b[39m\u001b[38;5;124mKimia\u001b[39m\u001b[38;5;124m\"\u001b[39m, \u001b[38;5;124m\"\u001b[39m\u001b[38;5;124mEkonomi\u001b[39m\u001b[38;5;124m\"\u001b[39m, \u001b[38;5;124m\"\u001b[39m\u001b[38;5;124mBahasa Indonesia\u001b[39m\u001b[38;5;124m\"\u001b[39m, \u001b[38;5;124m\"\u001b[39m\u001b[38;5;124mMatematika\u001b[39m\u001b[38;5;124m\"\u001b[39m)\n\u001b[0;32m      4\u001b[0m tuple_2 \u001b[38;5;241m=\u001b[39m (\u001b[38;5;241m1\u001b[39m, \u001b[38;5;241m2\u001b[39m, \u001b[38;5;241m3\u001b[39m, \u001b[38;5;241m4\u001b[39m, \u001b[38;5;241m5\u001b[39m)\n\u001b[1;32m----> 5\u001b[0m tuple_1[\u001b[38;5;241m0\u001b[39m]\u001b[38;5;241m=\u001b[39m\u001b[38;5;124m\"\u001b[39m\u001b[38;5;124mBiology\u001b[39m\u001b[38;5;124m\"\u001b[39m\n\u001b[0;32m      6\u001b[0m \u001b[38;5;28mprint\u001b[39m(\u001b[38;5;124m\"\u001b[39m\u001b[38;5;124mtuple_1[0]=\u001b[39m\u001b[38;5;124m\"\u001b[39m,tuple_1[\u001b[38;5;241m0\u001b[39m])\n",
      "\u001b[1;31mTypeError\u001b[0m: 'tuple' object does not support item assignment"
     ]
    }
   ],
   "source": [
    "#contoh 7.39\n",
    "\n",
    "tuple_1 = (\"Sosiologi\", \"Kimia\", \"Ekonomi\", \"Bahasa Indonesia\", \"Matematika\")\n",
    "tuple_2 = (1, 2, 3, 4, 5)\n",
    "tuple_1[0]=\"Biology\"\n",
    "print(\"tuple_1[0]=\",tuple_1[0])"
   ]
  },
  {
   "cell_type": "code",
   "execution_count": 44,
   "id": "28c1655d",
   "metadata": {},
   "outputs": [
    {
     "name": "stdout",
     "output_type": "stream",
     "text": [
      "Tuple setelah digabungkan = ('Sosiologi', 'Kimia', 'Ekonomi', 'Bahasa Indonesia', 'Matematika', 1, 2, 3, 4, 5)\n"
     ]
    }
   ],
   "source": [
    "#contoh 7.40\n",
    "\n",
    "tuple_1 = (\"Sosiologi\", \"Kimia\", \"Ekonomi\", \"Bahasa Indonesia\", \"Matematika\")\n",
    "tuple_2 = (1, 2, 3, 4, 5)\n",
    "tuple_gabung=tuple_1+tuple_2\n",
    "print(\"Tuple setelah digabungkan =\",tuple_gabung)"
   ]
  },
  {
   "cell_type": "code",
   "execution_count": 47,
   "id": "7721de48",
   "metadata": {},
   "outputs": [
    {
     "name": "stdout",
     "output_type": "stream",
     "text": [
      "{'npm': '22670088', 'nama': 'Andrian', 'umur': 18}\n"
     ]
    }
   ],
   "source": [
    "#contoh 7.41\n",
    "\n",
    "mahasiswa = { \n",
    "\"npm\": \"22670088\",\n",
    "\"nama\": \"Andrian\",\n",
    "\"umur\": 18}\n",
    "print(mahasiswa)"
   ]
  },
  {
   "cell_type": "code",
   "execution_count": 50,
   "id": "b5339b93",
   "metadata": {},
   "outputs": [
    {
     "name": "stdout",
     "output_type": "stream",
     "text": [
      "nim 22670088\n",
      "nama Andrian\n",
      "umur 18\n"
     ]
    }
   ],
   "source": [
    "mahasiswa = {\n",
    "\"nim\": \"22670088\",\n",
    "\"nama\": \"Andrian\",\n",
    "\"umur\": 18\n",
    "}\n",
    "for x, y in mahasiswa.items():\n",
    "    print(x, y)"
   ]
  },
  {
   "cell_type": "code",
   "execution_count": 57,
   "id": "f20fda4b",
   "metadata": {},
   "outputs": [
    {
     "name": "stdout",
     "output_type": "stream",
     "text": [
      "{'nim': '22670088', 'nama': 'Andrian', 'umur': '19'}\n"
     ]
    }
   ],
   "source": [
    "#contoh 7.45\n",
    "mahasiswa = {\n",
    "\"nim\": \"22670088\",\n",
    "\"nama\": \"Andrian\",\n",
    "\"umur\": 18\n",
    "}\n",
    "mahasiswa[\"umur\"]=\"19\"\n",
    "print(mahasiswa)"
   ]
  },
  {
   "cell_type": "code",
   "execution_count": 58,
   "id": "cdf387c1",
   "metadata": {},
   "outputs": [
    {
     "name": "stdout",
     "output_type": "stream",
     "text": [
      "{'nim': '22670088', 'nama': 'Andrian', 'umur': 18, 'alamat': 'Semarang'}\n"
     ]
    }
   ],
   "source": [
    "#contoh 7.46\n",
    "\n",
    "mahasiswa = {\n",
    "\"nim\": \"22670088\",\n",
    "\"nama\": \"Andrian\",\n",
    "\"umur\": 18\n",
    "}\n",
    "mahasiswa[\"alamat\"]= \"Semarang\"\n",
    "print(mahasiswa)"
   ]
  },
  {
   "cell_type": "code",
   "execution_count": 63,
   "id": "19388a64",
   "metadata": {},
   "outputs": [
    {
     "name": "stdout",
     "output_type": "stream",
     "text": [
      "{'nim': '22670088', 'nama': 'Andrian'}\n"
     ]
    }
   ],
   "source": [
    "#contoh 7.48\n",
    "\n",
    "mahasiswa = {\n",
    "\"nim\": \"22670088\",\n",
    "\"nama\": \"Andrian\",\n",
    "\"umur\": 18\n",
    "}\n",
    "del mahasiswa[\"umur\"]\n",
    "print(mahasiswa)\n"
   ]
  },
  {
   "cell_type": "code",
   "execution_count": 62,
   "id": "fa60e1ef",
   "metadata": {},
   "outputs": [
    {
     "name": "stdout",
     "output_type": "stream",
     "text": [
      "{}\n"
     ]
    }
   ],
   "source": [
    "#contoh 7.49\n",
    "\n",
    "mahasiswa = {\n",
    "\"nim\": \"22670088\",\n",
    "\"nama\": \"Andrian\",\n",
    "\"umur\": 18\n",
    "}\n",
    "mahasiswa.clear()\n",
    "print(mahasiswa)\n"
   ]
  },
  {
   "cell_type": "code",
   "execution_count": 61,
   "id": "6270b6e5",
   "metadata": {},
   "outputs": [
    {
     "name": "stdout",
     "output_type": "stream",
     "text": [
      "{'nim': '22670088', 'nama': 'Andrian', 'umur': 18}\n",
      "{'nim': '22670088', 'nama': 'Andrian', 'umur': 18}\n"
     ]
    }
   ],
   "source": [
    "#contoh 7.50\n",
    "\n",
    "mahasiswa = {\n",
    "\"nim\": \"22670088\",\n",
    "\"nama\": \"Andrian\",\n",
    "\"umur\": 18\n",
    "}\n",
    "mahasiswa_baru = mahasiswa.copy()\n",
    "print(mahasiswa)\n",
    "print(mahasiswa_baru)"
   ]
  },
  {
   "cell_type": "code",
   "execution_count": 60,
   "id": "792e82df",
   "metadata": {},
   "outputs": [
    {
     "name": "stdout",
     "output_type": "stream",
     "text": [
      "{'mhs1': {'nim': '22670088', 'nama': 'Andrian', 'umur': 18}, 'mhs2': {'nim': '1906780212', 'nama': 'Wildan', 'umur': 19}, 'mhs3': {'nim': '1906780213', 'nama': 'Patria', 'umur': 18}}\n"
     ]
    }
   ],
   "source": [
    "#contoh 7.51\n",
    "\n",
    "mahasiswaku = {\n",
    "\"mhs1\":{\n",
    "\"nim\": \"22670088\",\n",
    "\"nama\": \"Andrian\",\n",
    "\"umur\": 18\n",
    "},\n",
    "\"mhs2\":{\n",
    "\"nim\": \"1906780212\",\n",
    "\"nama\": \"Wildan\",\n",
    "\"umur\": 19\n",
    "},\n",
    "\"mhs3\":{\n",
    "\"nim\": \"1906780213\",\n",
    "\"nama\": \"Patria\",\n",
    "\"umur\": 18\n",
    "}\n",
    "}\n",
    "print(mahasiswaku)"
   ]
  },
  {
   "cell_type": "code",
   "execution_count": 1,
   "id": "a4f3e1e5",
   "metadata": {},
   "outputs": [],
   "source": [
    "#contoh 5.2"
   ]
  },
  {
   "cell_type": "code",
   "execution_count": null,
   "id": "2953e918",
   "metadata": {},
   "outputs": [],
   "source": []
  }
 ],
 "metadata": {
  "kernelspec": {
   "display_name": "Python 3 (ipykernel)",
   "language": "python",
   "name": "python3"
  },
  "language_info": {
   "codemirror_mode": {
    "name": "ipython",
    "version": 3
   },
   "file_extension": ".py",
   "mimetype": "text/x-python",
   "name": "python",
   "nbconvert_exporter": "python",
   "pygments_lexer": "ipython3",
   "version": "3.9.13"
  }
 },
 "nbformat": 4,
 "nbformat_minor": 5
}
