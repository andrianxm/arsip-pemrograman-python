{
 "cells": [
  {
   "cell_type": "code",
   "execution_count": 1,
   "id": "e89cb5c4",
   "metadata": {},
   "outputs": [
    {
     "name": "stdout",
     "output_type": "stream",
     "text": [
      "Hari ini tanggal 17 Agustus, Selamat Hari Kemerdekaan. Merdeka!\n"
     ]
    }
   ],
   "source": [
    "#contoh 6.1\n",
    "\n",
    "def pesan( ):\n",
    "    print(\"Hari ini tanggal 17 Agustus, Selamat Hari Kemerdekaan. Merdeka!\")\n",
    "pesan()"
   ]
  },
  {
   "cell_type": "code",
   "execution_count": 2,
   "id": "d2090dc9",
   "metadata": {},
   "outputs": [
    {
     "name": "stdout",
     "output_type": "stream",
     "text": [
      "750\n"
     ]
    }
   ],
   "source": [
    "#contoh 6.2\n",
    "\n",
    "def vol_balok(p, l, t):\n",
    "    '''Fungsi mencari luas balok'''\n",
    "    print(p*l*t)\n",
    "    \n",
    "vol_balok(15,5,10)"
   ]
  },
  {
   "cell_type": "code",
   "execution_count": 3,
   "id": "aa6ed708",
   "metadata": {},
   "outputs": [
    {
     "name": "stdout",
     "output_type": "stream",
     "text": [
      "750\n"
     ]
    }
   ],
   "source": [
    "#contoh 6.3\n",
    "\n",
    "def vol_balok(p, l=5, t=10):\n",
    "    '''Fungsi mencari luas balok'''\n",
    "    print(p*l*t)\n",
    "    \n",
    "vol_balok(15)"
   ]
  },
  {
   "cell_type": "code",
   "execution_count": 4,
   "id": "fd5f5ff9",
   "metadata": {},
   "outputs": [
    {
     "name": "stdout",
     "output_type": "stream",
     "text": [
      "Hai Any\n",
      "Hai Budi\n",
      "Hai Citra\n",
      "Hai Dina\n"
     ]
    }
   ],
   "source": [
    "#contoh 6.4\n",
    "\n",
    "def peserta(*namanya):\n",
    "   \"\"\"Fungsi untuk urutan sejumlah nama\"\"\"\n",
    "   # nama beserta argumen\n",
    "   for nama in namanya:\n",
    "       print(\"Hai\", nama)\n",
    "    \n",
    "peserta (\"Any\",\"Budi\",\"Citra\",\"Dina\")"
   ]
  },
  {
   "cell_type": "code",
   "execution_count": 5,
   "id": "994d1749",
   "metadata": {},
   "outputs": [
    {
     "name": "stdout",
     "output_type": "stream",
     "text": [
      "275\n"
     ]
    }
   ],
   "source": [
    "#contoh 6.5\n",
    "\n",
    "def penjumlahan(a, b, *var):\n",
    "    '''Fungsi untuk menjumlahkan sejumlah variabel'''\n",
    "    x = a+b\n",
    "    y = 0\n",
    "    for n in var:\n",
    "        y = y + n\n",
    "    total = x + y\n",
    "    print(total)\n",
    "    \n",
    "penjumlahan(5,10,15,20,25,30,35,40,45,50)"
   ]
  },
  {
   "cell_type": "code",
   "execution_count": 6,
   "id": "350cbd59",
   "metadata": {},
   "outputs": [
    {
     "name": "stdout",
     "output_type": "stream",
     "text": [
      "153.94\n"
     ]
    }
   ],
   "source": [
    "#contoh 6.6 Menghitung luas lingkaran\n",
    "import math\n",
    "\n",
    "jari_jari = 7\n",
    "luas = math.pi *math.pow(jari_jari, 2)\n",
    "print(format(luas,'.2f'))"
   ]
  },
  {
   "cell_type": "code",
   "execution_count": 7,
   "id": "f4e8f48f",
   "metadata": {},
   "outputs": [
    {
     "data": {
      "text/plain": [
       "3.141592653589793"
      ]
     },
     "execution_count": 7,
     "metadata": {},
     "output_type": "execute_result"
    }
   ],
   "source": [
    "#contoh 6.6\n",
    "\n",
    "import math\n",
    "\n",
    "math.pi"
   ]
  },
  {
   "cell_type": "code",
   "execution_count": 8,
   "id": "7f671970",
   "metadata": {},
   "outputs": [
    {
     "name": "stdout",
     "output_type": "stream",
     "text": [
      "harga ayam 1 kg adalah Rp. 20.000 \n",
      "\n",
      "harga 3 ayam adalah 60000\n"
     ]
    }
   ],
   "source": [
    "#contoh 6.7\n",
    "\n",
    "def harga_ayam () :\n",
    "    print(\"harga ayam 1 kg adalah Rp. 20.000 \")\n",
    "    \n",
    "def harga_total_ayam (kg) :\n",
    "    harga = 20000\n",
    "    harga_total = kg * harga \n",
    "    print (\"harga\", kg, \"ayam adalah\", harga_total )\n",
    "\n",
    "harga_ayam ()\n",
    "print()\n",
    "harga_total_ayam(3)"
   ]
  },
  {
   "cell_type": "code",
   "execution_count": 9,
   "id": "e090c372",
   "metadata": {},
   "outputs": [
    {
     "name": "stdout",
     "output_type": "stream",
     "text": [
      "Masukkan suhu :80\n",
      "Tampilkan suhu :  176.0\n",
      "Tampilkan suhu :  353.15\n",
      "Tampilkan suhu :  64.0\n"
     ]
    }
   ],
   "source": [
    "#contoh 6.10 fungsi user-defined\n",
    "\n",
    "def input_suhu():\n",
    "    suhu = float(input(\"Masukkan suhu :\"))\n",
    "    return suhu\n",
    "\n",
    "def ubah_fahrenheit(t):\n",
    "    f = 9/5 * t + 32\n",
    "    return f\n",
    "\n",
    "def ubah_kelvin(t):\n",
    "    k = t + 273.15\n",
    "    return k\n",
    "\n",
    "def ubah_reamur(t):\n",
    "    r = 4/5 * t\n",
    "    return r\n",
    "\n",
    "def tampil_suhu(f, k, r):\n",
    "    print(\"Tampilkan suhu : \",f)\n",
    "    print(\"Tampilkan suhu : \",k)\n",
    "    print(\"Tampilkan suhu : \",r)\n",
    "    \n",
    "def utama():\n",
    "    t=input_suhu()\n",
    "    f=ubah_fahrenheit(t)\n",
    "    k=ubah_kelvin(t)\n",
    "    r=ubah_reamur(t)\n",
    "    tampil_suhu(f, k, r)\n",
    "    \n",
    "utama()"
   ]
  },
  {
   "cell_type": "code",
   "execution_count": null,
   "id": "92ecdba9",
   "metadata": {},
   "outputs": [],
   "source": [
    "#pemanggilan secara langsung\n",
    "\n",
    "%run hitungan_balok.py"
   ]
  },
  {
   "cell_type": "code",
   "execution_count": 2,
   "id": "8ce24fbd",
   "metadata": {},
   "outputs": [
    {
     "ename": "ModuleNotFoundError",
     "evalue": "No module named 'balo'",
     "output_type": "error",
     "traceback": [
      "\u001b[1;31m---------------------------------------------------------------------------\u001b[0m",
      "\u001b[1;31mModuleNotFoundError\u001b[0m                       Traceback (most recent call last)",
      "\u001b[1;32m~\\AppData\\Local\\Temp\\ipykernel_22252\\2313252035.py\u001b[0m in \u001b[0;36m<module>\u001b[1;34m\u001b[0m\n\u001b[0;32m      1\u001b[0m \u001b[1;31m#contoh 6.11 pemanggilan dengan cara import\u001b[0m\u001b[1;33m\u001b[0m\u001b[1;33m\u001b[0m\u001b[0m\n\u001b[0;32m      2\u001b[0m \u001b[1;33m\u001b[0m\u001b[0m\n\u001b[1;32m----> 3\u001b[1;33m \u001b[1;32mimport\u001b[0m \u001b[0mbalo\u001b[0m\u001b[1;33m\u001b[0m\u001b[1;33m\u001b[0m\u001b[0m\n\u001b[0m\u001b[0;32m      4\u001b[0m \u001b[1;33m\u001b[0m\u001b[0m\n\u001b[0;32m      5\u001b[0m \u001b[1;32mdef\u001b[0m \u001b[0minput_balok\u001b[0m\u001b[1;33m(\u001b[0m\u001b[1;33m)\u001b[0m\u001b[1;33m:\u001b[0m\u001b[1;33m\u001b[0m\u001b[1;33m\u001b[0m\u001b[0m\n",
      "\u001b[1;31mModuleNotFoundError\u001b[0m: No module named 'balo'"
     ]
    }
   ],
   "source": [
    "#contoh 6.11 pemanggilan dengan cara import\n",
    "\n",
    "import balo\n",
    "\n",
    "def input_balok():\n",
    "    panjang = float(input(\"Masukkan panjang:\"))\n",
    "    lebar = float(input(\"Masukkan lebar:\"))\n",
    "    tinggi = float(input(\"Masukkan tinggi:\"))\n",
    "    return panjang,lebar,tinggi\n",
    "\n",
    "a, b, c = input_balok()\n",
    "balok.volume_balok(a, b, c)\n",
    "balok.luas_balok(a, b, c)\n",
    "balok.keliling_balok(a, b, c)"
   ]
  },
  {
   "cell_type": "code",
   "execution_count": 4,
   "id": "6e7c946f",
   "metadata": {},
   "outputs": [
    {
     "name": "stdout",
     "output_type": "stream",
     "text": [
      "Masukkan panjang :12\n",
      "Masukkan lebar :12\n",
      "Masukkan tinggi :12\n",
      "Volume =  1728.0\n",
      "Luas =  864.0\n",
      "Keliling =  144.0\n"
     ]
    }
   ],
   "source": [
    "#contoh 6.12 pemanggilan dengan cara from import\n",
    "\n",
    "from balok import *\n",
    "\n",
    "def input_balok():\n",
    "    panjang = float(input(\"Masukkan panjang :\"))\n",
    "    lebar = float(input(\"Masukkan lebar :\"))\n",
    "    tinggi = float(input(\"Masukkan tinggi :\"))\n",
    "    return panjang, lebar, tinggi\n",
    "\n",
    "a, b, c = input_balok()\n",
    "volume_balok(a, b, c)\n",
    "luas_balok(a, b, c)\n",
    "keliling_balok(a, b, c)"
   ]
  },
  {
   "cell_type": "code",
   "execution_count": 3,
   "id": "fc54d0bd",
   "metadata": {},
   "outputs": [
    {
     "name": "stdout",
     "output_type": "stream",
     "text": [
      "15.0\n",
      "31.42\n"
     ]
    }
   ],
   "source": [
    "#library python\n",
    "\n",
    "import math\n",
    "\n",
    "#mencari akar pangkat 2\n",
    "x = 225\n",
    "y = math.sqrt(x)\n",
    "print(y)\n",
    "\n",
    "#mencari luas lingkaran mengguanakan pi\n",
    "r = 10\n",
    "luas = math.pi * r\n",
    "\n",
    "print(format(luas,'.2f'))"
   ]
  },
  {
   "cell_type": "code",
   "execution_count": 13,
   "id": "82e27823",
   "metadata": {},
   "outputs": [
    {
     "name": "stdout",
     "output_type": "stream",
     "text": [
      "Ini variabel lokal, berada didalam fungsi\n",
      "Ini variabel global, berada diluar fungsi\n"
     ]
    }
   ],
   "source": [
    "#contoh_6.13\n",
    "\n",
    "def variabelku():\n",
    "    var_lok =\"Ini variabel lokal, berada didalam fungsi\"\n",
    "    print(var_lok)\n",
    "    print(var_glo)\n",
    "    \n",
    "var_glo = \"Ini variabel global, berada diluar fungsi\"\n",
    "variabelku()"
   ]
  },
  {
   "cell_type": "code",
   "execution_count": 14,
   "id": "e69beb22",
   "metadata": {},
   "outputs": [
    {
     "name": "stdout",
     "output_type": "stream",
     "text": [
      "Ini variabel lokal, berada didalam fungsi\n"
     ]
    }
   ],
   "source": [
    "#contoh_6.14\n",
    "\n",
    "def variabelku():\n",
    "    var_1 =\"Ini variabel lokal, berada didalam fungsi\"\n",
    "    print(var_1)\n",
    "var_1 = \"Ini variabel global, berada diluar fungsi\"\n",
    "variabelku()\n"
   ]
  },
  {
   "cell_type": "code",
   "execution_count": 15,
   "id": "a3c5fbcd",
   "metadata": {},
   "outputs": [
    {
     "name": "stdout",
     "output_type": "stream",
     "text": [
      "Ini variabel global, berada diluar fungsi\n",
      "Ini variabel lokal, berada didalam fungsi\n"
     ]
    }
   ],
   "source": [
    "#contoh_6.15\n",
    "\n",
    "def variabelku():\n",
    "    global var_1\n",
    "    print(var_1)\n",
    "    var_1 =\"Ini variabel lokal, berada didalam fungsi\"\n",
    "    print(var_1)\n",
    "    \n",
    "var_1 = \"Ini variabel global, berada diluar fungsi\"\n",
    "variabelku()"
   ]
  },
  {
   "cell_type": "code",
   "execution_count": 16,
   "id": "cf5e5469",
   "metadata": {},
   "outputs": [
    {
     "name": "stdout",
     "output_type": "stream",
     "text": [
      "Ini variabel lokal, berada didalam fungsi\n",
      "Ini variabel global, berada diluar fungsi\n"
     ]
    },
    {
     "ename": "NameError",
     "evalue": "name 'var_lok' is not defined",
     "output_type": "error",
     "traceback": [
      "\u001b[1;31m---------------------------------------------------------------------------\u001b[0m",
      "\u001b[1;31mNameError\u001b[0m                                 Traceback (most recent call last)",
      "\u001b[1;32m~\\AppData\\Local\\Temp\\ipykernel_15092\\2791455483.py\u001b[0m in \u001b[0;36m<module>\u001b[1;34m\u001b[0m\n\u001b[0;32m      8\u001b[0m \u001b[0mvar_glo\u001b[0m \u001b[1;33m=\u001b[0m \u001b[1;34m\"Ini variabel global, berada diluar fungsi\"\u001b[0m\u001b[1;33m\u001b[0m\u001b[1;33m\u001b[0m\u001b[0m\n\u001b[0;32m      9\u001b[0m \u001b[0mvariabelku\u001b[0m\u001b[1;33m(\u001b[0m\u001b[1;33m)\u001b[0m\u001b[1;33m\u001b[0m\u001b[1;33m\u001b[0m\u001b[0m\n\u001b[1;32m---> 10\u001b[1;33m \u001b[0mprint\u001b[0m\u001b[1;33m(\u001b[0m\u001b[0mvar_lok\u001b[0m\u001b[1;33m)\u001b[0m\u001b[1;33m\u001b[0m\u001b[1;33m\u001b[0m\u001b[0m\n\u001b[0m",
      "\u001b[1;31mNameError\u001b[0m: name 'var_lok' is not defined"
     ]
    }
   ],
   "source": [
    "#contoh_6.16\n",
    "\n",
    "def variabelku():\n",
    "    var_lok =\"Ini variabel lokal, berada didalam fungsi\"\n",
    "    print(var_lok)\n",
    "    print(var_glo)\n",
    "    \n",
    "var_glo = \"Ini variabel global, berada diluar fungsi\"\n",
    "variabelku()\n",
    "print(var_lok)"
   ]
  },
  {
   "cell_type": "code",
   "execution_count": 17,
   "id": "733b8cb1",
   "metadata": {},
   "outputs": [
    {
     "data": {
      "text/plain": [
       "95"
      ]
     },
     "execution_count": 17,
     "metadata": {},
     "output_type": "execute_result"
    }
   ],
   "source": [
    "#contoh_6.17\n",
    "\n",
    "def penjumlahan(p, q, r):\n",
    "    return(p+q+r)\n",
    "\n",
    "penjumlahan(10,35,50)"
   ]
  },
  {
   "cell_type": "code",
   "execution_count": 18,
   "id": "3420d662",
   "metadata": {},
   "outputs": [
    {
     "data": {
      "text/plain": [
       "95"
      ]
     },
     "execution_count": 18,
     "metadata": {},
     "output_type": "execute_result"
    }
   ],
   "source": [
    "#contoh_6.18\n",
    "\n",
    "def penjumlahan(p, q, r):\n",
    "    jum = p+q+r\n",
    "    return jum\n",
    "\n",
    "penjumlahan(10,35,50)"
   ]
  },
  {
   "cell_type": "code",
   "execution_count": 19,
   "id": "6ef87192",
   "metadata": {},
   "outputs": [],
   "source": [
    "#contoh_6.19\n",
    "\n",
    "def penjumlahan(p, q, r):\n",
    "    jum = p+q+r\n",
    "    return\n",
    "\n",
    "penjumlahan(10,35,50)"
   ]
  },
  {
   "cell_type": "code",
   "execution_count": 20,
   "id": "ed38a1f6",
   "metadata": {},
   "outputs": [
    {
     "name": "stdout",
     "output_type": "stream",
     "text": [
      "Hasilnya =  None\n"
     ]
    }
   ],
   "source": [
    "#contoh_6.20\n",
    "\n",
    "def penjumlahan(p, q, r):\n",
    "    jum = p+q+r\n",
    "    return\n",
    "    \n",
    "\n",
    "hasil = penjumlahan(10,35,50)\n",
    "print(\"Hasilnya = \", hasil)"
   ]
  },
  {
   "cell_type": "code",
   "execution_count": 21,
   "id": "3aa2ca2a",
   "metadata": {},
   "outputs": [
    {
     "name": "stdout",
     "output_type": "stream",
     "text": [
      "Hasilnya =  95\n"
     ]
    }
   ],
   "source": [
    "#contoh_6.22\n",
    "\n",
    "def penjumlahan(p, q, r):\n",
    "    return(p+q+r)\n",
    "    print(\"jumlah =\", p+q+r)\n",
    "    \n",
    "jum = penjumlahan(10,35,50)\n",
    "print(\"Hasilnya = \", jum)"
   ]
  },
  {
   "cell_type": "code",
   "execution_count": 22,
   "id": "5d082384",
   "metadata": {},
   "outputs": [
    {
     "data": {
      "text/plain": [
       "(15, 100, 25, 4.0)"
      ]
     },
     "execution_count": 22,
     "metadata": {},
     "output_type": "execute_result"
    }
   ],
   "source": [
    "#contoh_6.23\n",
    "\n",
    "def op_aritmatika(a, b):\n",
    "    jumlah = a + b\n",
    "    kurang = a - b\n",
    "    kali = a * b\n",
    "    bagi = a / b\n",
    "    return kurang, kali, jumlah, bagi\n",
    "\n",
    "op_aritmatika(20, 5)"
   ]
  },
  {
   "cell_type": "code",
   "execution_count": 23,
   "id": "f39d37a2",
   "metadata": {},
   "outputs": [
    {
     "name": "stdout",
     "output_type": "stream",
     "text": [
      "hasil pengurangan= 15\n",
      "hasil perkalian= 100\n",
      "hasil penjumlahan= 25\n",
      "hasil pembagian= 4.0\n"
     ]
    }
   ],
   "source": [
    "#contoh_6.24\n",
    "\n",
    "def op_aritmatika(a, b):\n",
    "    jumlah = a + b\n",
    "    kurang = a - b\n",
    "    kali = a * b\n",
    "    bagi = a / b\n",
    "    return kurang, kali, jumlah, bagi\n",
    "\n",
    "p, q, r, s = op_aritmatika(20,5)\n",
    "print(\"hasil pengurangan=\",p)\n",
    "print(\"hasil perkalian=\",q)\n",
    "print(\"hasil penjumlahan=\",r)\n",
    "print(\"hasil pembagian=\",s)"
   ]
  },
  {
   "cell_type": "code",
   "execution_count": null,
   "id": "e519e6cf",
   "metadata": {},
   "outputs": [],
   "source": []
  }
 ],
 "metadata": {
  "kernelspec": {
   "display_name": "Python 3 (ipykernel)",
   "language": "python",
   "name": "python3"
  },
  "language_info": {
   "codemirror_mode": {
    "name": "ipython",
    "version": 3
   },
   "file_extension": ".py",
   "mimetype": "text/x-python",
   "name": "python",
   "nbconvert_exporter": "python",
   "pygments_lexer": "ipython3",
   "version": "3.9.13"
  }
 },
 "nbformat": 4,
 "nbformat_minor": 5
}
