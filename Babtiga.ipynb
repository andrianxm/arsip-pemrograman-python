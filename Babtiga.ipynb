{
 "cells": [
  {
   "cell_type": "code",
   "execution_count": 1,
   "id": "143ce726",
   "metadata": {},
   "outputs": [
    {
     "name": "stdout",
     "output_type": "stream",
     "text": [
      "Ayoooo....belajar PHYTON !/n\n",
      "menghitung pangkat 2/n\n",
      "kuadrat 1 adalah 1\n",
      "kuadrat 2 adalah 4\n",
      "kuadrat 3 adalah 9\n",
      "kuadrat 4 adalah 16\n",
      "kuadrat 5 adalah 25\n"
     ]
    }
   ],
   "source": [
    "#contoh 3.1\n",
    "\n",
    "print(\"Ayoooo....belajar PHYTON !/n\")\n",
    "print(\"menghitung pangkat 2/n\")\n",
    "\n",
    "i = 1\n",
    "while i <= 5:\n",
    "    print(\"kuadrat\",i,\"adalah\", i*i)\n",
    "    i=i+1"
   ]
  },
  {
   "cell_type": "code",
   "execution_count": 2,
   "id": "3494012d",
   "metadata": {},
   "outputs": [
    {
     "name": "stdout",
     "output_type": "stream",
     "text": [
      "100\n"
     ]
    }
   ],
   "source": [
    "#contoh 3.2 menghitung luas persegi panjang\n",
    "\n",
    "panjang = 20\n",
    "lebar = 5\n",
    "luas = panjang*lebar\n",
    "print(luas)"
   ]
  },
  {
   "cell_type": "code",
   "execution_count": 3,
   "id": "be6f9c7e",
   "metadata": {},
   "outputs": [
    {
     "name": "stdout",
     "output_type": "stream",
     "text": [
      "100\n"
     ]
    }
   ],
   "source": [
    "#contoh 3.3 menghitung luas persegi panjang\n",
    "\n",
    "a = 20\n",
    "b = 5\n",
    "c = a*b\n",
    "print(c)"
   ]
  },
  {
   "cell_type": "code",
   "execution_count": 4,
   "id": "06647274",
   "metadata": {},
   "outputs": [
    {
     "name": "stdout",
     "output_type": "stream",
     "text": [
      "100\n"
     ]
    }
   ],
   "source": [
    "#contoh 3.4 menghitung luas persegi panjang \n",
    "\n",
    "panjang = 20\n",
    "lebar = 5\n",
    "luas = panjang*lebar\n",
    "print(luas)"
   ]
  },
  {
   "cell_type": "code",
   "execution_count": 5,
   "id": "c16fd4f7",
   "metadata": {},
   "outputs": [
    {
     "data": {
      "text/plain": [
       "float"
      ]
     },
     "execution_count": 5,
     "metadata": {},
     "output_type": "execute_result"
    }
   ],
   "source": [
    "#contoh 3.9\n",
    "\n",
    "type(7.0)"
   ]
  },
  {
   "cell_type": "code",
   "execution_count": 6,
   "id": "af791e0d",
   "metadata": {},
   "outputs": [
    {
     "data": {
      "text/plain": [
       "int"
      ]
     },
     "execution_count": 6,
     "metadata": {},
     "output_type": "execute_result"
    }
   ],
   "source": [
    "#contoh 3.10\n",
    "\n",
    "type(7)"
   ]
  },
  {
   "cell_type": "code",
   "execution_count": 7,
   "id": "7bdf9767",
   "metadata": {},
   "outputs": [
    {
     "data": {
      "text/plain": [
       "2.3333333333333335"
      ]
     },
     "execution_count": 7,
     "metadata": {},
     "output_type": "execute_result"
    }
   ],
   "source": [
    "#contoh 3.11 ordinary division\n",
    "\n",
    "7/3"
   ]
  },
  {
   "cell_type": "code",
   "execution_count": 8,
   "id": "55a1538a",
   "metadata": {},
   "outputs": [
    {
     "data": {
      "text/plain": [
       "2"
      ]
     },
     "execution_count": 8,
     "metadata": {},
     "output_type": "execute_result"
    }
   ],
   "source": [
    "#contoh 3.12 floor division\n",
    "\n",
    "7//3"
   ]
  },
  {
   "cell_type": "code",
   "execution_count": 9,
   "id": "6616fe9e",
   "metadata": {},
   "outputs": [
    {
     "data": {
      "text/plain": [
       "1"
      ]
     },
     "execution_count": 9,
     "metadata": {},
     "output_type": "execute_result"
    }
   ],
   "source": [
    "#contoh 3.13 modulo\n",
    "\n",
    "7%3"
   ]
  },
  {
   "cell_type": "code",
   "execution_count": 10,
   "id": "319cbd76",
   "metadata": {},
   "outputs": [
    {
     "data": {
      "text/plain": [
       "64"
      ]
     },
     "execution_count": 10,
     "metadata": {},
     "output_type": "execute_result"
    }
   ],
   "source": [
    "#contoh 3.14 pangkat atau eksponensial\n",
    "\n",
    "4**3"
   ]
  },
  {
   "cell_type": "code",
   "execution_count": 11,
   "id": "718fa3c2",
   "metadata": {},
   "outputs": [
    {
     "data": {
      "text/plain": [
       "7.5"
      ]
     },
     "execution_count": 11,
     "metadata": {},
     "output_type": "execute_result"
    }
   ],
   "source": [
    "#contoh 3.15 absolut\n",
    "\n",
    "abs(-7.5)"
   ]
  },
  {
   "cell_type": "code",
   "execution_count": 12,
   "id": "c2e57c79",
   "metadata": {},
   "outputs": [
    {
     "data": {
      "text/plain": [
       "12"
      ]
     },
     "execution_count": 12,
     "metadata": {},
     "output_type": "execute_result"
    }
   ],
   "source": [
    "#contoh 3.16\n",
    "\n",
    "X1 = 10\n",
    "X1 += 2 \n",
    "X1\n",
    "\n",
    "#X1 = X1 + 2"
   ]
  },
  {
   "cell_type": "code",
   "execution_count": 14,
   "id": "6b726347",
   "metadata": {},
   "outputs": [
    {
     "data": {
      "text/plain": [
       "20"
      ]
     },
     "execution_count": 14,
     "metadata": {},
     "output_type": "execute_result"
    }
   ],
   "source": [
    "#contoh 3.18\n",
    "\n",
    "X3 = 10\n",
    "X3 *= 2 \n",
    "X3\n",
    "\n",
    "#X3 = X3 * 2"
   ]
  },
  {
   "cell_type": "code",
   "execution_count": 14,
   "id": "8ab1bb7c",
   "metadata": {},
   "outputs": [
    {
     "data": {
      "text/plain": [
       "5.0"
      ]
     },
     "execution_count": 14,
     "metadata": {},
     "output_type": "execute_result"
    }
   ],
   "source": [
    "#contoh 3.19\n",
    "\n",
    "X4 = 10\n",
    "X4 /= 2 \n",
    "X4\n",
    "\n",
    "#X4 = X4 / 2"
   ]
  },
  {
   "cell_type": "code",
   "execution_count": 15,
   "id": "ba5ee8bd",
   "metadata": {},
   "outputs": [
    {
     "data": {
      "text/plain": [
       "2.5"
      ]
     },
     "execution_count": 15,
     "metadata": {},
     "output_type": "execute_result"
    }
   ],
   "source": [
    "#contoh 3.20\n",
    "\n",
    "X4 = 10\n",
    "X4 /= 4 \n",
    "X4\n",
    "\n",
    "#X4 = X4 / 2"
   ]
  },
  {
   "cell_type": "code",
   "execution_count": 16,
   "id": "4bc8829f",
   "metadata": {},
   "outputs": [
    {
     "data": {
      "text/plain": [
       "4"
      ]
     },
     "execution_count": 16,
     "metadata": {},
     "output_type": "execute_result"
    }
   ],
   "source": [
    "#contoh 3.21\n",
    "\n",
    "int(9/2)"
   ]
  },
  {
   "cell_type": "code",
   "execution_count": 17,
   "id": "e6d050ea",
   "metadata": {},
   "outputs": [
    {
     "data": {
      "text/plain": [
       "9"
      ]
     },
     "execution_count": 17,
     "metadata": {},
     "output_type": "execute_result"
    }
   ],
   "source": [
    "#contoh 3.22 pembulatan\n",
    "\n",
    "round(9.1)"
   ]
  },
  {
   "cell_type": "code",
   "execution_count": 18,
   "id": "73da73e3",
   "metadata": {},
   "outputs": [
    {
     "data": {
      "text/plain": [
       "9"
      ]
     },
     "execution_count": 18,
     "metadata": {},
     "output_type": "execute_result"
    }
   ],
   "source": [
    "#contoh 3.22 pembulatan\n",
    "\n",
    "round(9.1)"
   ]
  },
  {
   "cell_type": "code",
   "execution_count": 19,
   "id": "0165dcb7",
   "metadata": {},
   "outputs": [
    {
     "data": {
      "text/plain": [
       "10"
      ]
     },
     "execution_count": 19,
     "metadata": {},
     "output_type": "execute_result"
    }
   ],
   "source": [
    "#contoh 3.24\n",
    "\n",
    "round(9.9)"
   ]
  },
  {
   "cell_type": "code",
   "execution_count": 20,
   "id": "d05fef03",
   "metadata": {},
   "outputs": [
    {
     "name": "stdout",
     "output_type": "stream",
     "text": [
      "3.14\n"
     ]
    }
   ],
   "source": [
    "#contoh 3.25 format angka desimal\n",
    "\n",
    "x = 3.14159265 #phi\n",
    "y = format(x,'.2f') #2f berarti 2 digit setelah titik\n",
    "\n",
    "print(y)"
   ]
  },
  {
   "cell_type": "code",
   "execution_count": 21,
   "id": "5a7ae3c0",
   "metadata": {},
   "outputs": [
    {
     "name": "stdout",
     "output_type": "stream",
     "text": [
      "150,000,000.2\n"
     ]
    }
   ],
   "source": [
    "#contoh 3.26 pemisah ribuan\n",
    "\n",
    "a = 150000000.2\n",
    "b = '{:,}'.format(a)\n",
    "\n",
    "print(b)"
   ]
  },
  {
   "cell_type": "code",
   "execution_count": 22,
   "id": "65736558",
   "metadata": {},
   "outputs": [
    {
     "name": "stdout",
     "output_type": "stream",
     "text": [
      "75.000000%\n"
     ]
    }
   ],
   "source": [
    "#contoh 3.27 persentase\n",
    "\n",
    "c = 0.75\n",
    "d = \"{:%}\".format(c)\n",
    "\n",
    "print(d)"
   ]
  },
  {
   "cell_type": "code",
   "execution_count": 23,
   "id": "b6d8b890",
   "metadata": {},
   "outputs": [
    {
     "name": "stdout",
     "output_type": "stream",
     "text": [
      "75.0%\n"
     ]
    }
   ],
   "source": [
    "#contoh 3.28 persentase dengan pengaturan digit dibelakang koma\n",
    "\n",
    "e = 0.75\n",
    "f = \"{:.1%}\".format(e)\n",
    "\n",
    "print(f)"
   ]
  },
  {
   "cell_type": "code",
   "execution_count": 24,
   "id": "29a2c25d",
   "metadata": {},
   "outputs": [
    {
     "name": "stdout",
     "output_type": "stream",
     "text": [
      "Masukkan sebuah angka :10\n"
     ]
    }
   ],
   "source": [
    "#contoh 3.31\n",
    "\n",
    "angka = input(\"Masukkan sebuah angka :\")"
   ]
  },
  {
   "cell_type": "code",
   "execution_count": 25,
   "id": "d62de00b",
   "metadata": {},
   "outputs": [
    {
     "name": "stdout",
     "output_type": "stream",
     "text": [
      "Masukkan umur anda :18\n"
     ]
    }
   ],
   "source": [
    "#contoh 3.32\n",
    "\n",
    "umur = int(input(\"Masukkan umur anda :\"))"
   ]
  },
  {
   "cell_type": "code",
   "execution_count": 26,
   "id": "909d4885",
   "metadata": {},
   "outputs": [
    {
     "name": "stdout",
     "output_type": "stream",
     "text": [
      "Masukkan berat beras yang anda beli :2.5\n"
     ]
    }
   ],
   "source": [
    "#contoh 3.33\n",
    "\n",
    "beras = float(input(\"Masukkan berat beras yang anda beli :\"))"
   ]
  },
  {
   "cell_type": "code",
   "execution_count": 27,
   "id": "170722d1",
   "metadata": {},
   "outputs": [
    {
     "name": "stdout",
     "output_type": "stream",
     "text": [
      "Masukkan angka :10\n",
      "Masukkan angka :20\n",
      "Masukkan angka :30\n",
      "Masukkan angka :40\n",
      "Total angka yang anda masukkan : 100\n"
     ]
    }
   ],
   "source": [
    "#contoh 3.34\n",
    "\n",
    "angka_1 = int(input(\"Masukkan angka :\"))\n",
    "angka_2 = int(input(\"Masukkan angka :\"))\n",
    "angka_3 = int(input(\"Masukkan angka :\"))\n",
    "angka_4 = int(input(\"Masukkan angka :\"))\n",
    "print(\"Total angka yang anda masukkan :\", angka_1+angka_2+angka_3+angka_4)"
   ]
  },
  {
   "cell_type": "code",
   "execution_count": 15,
   "id": "ca7b53cf",
   "metadata": {},
   "outputs": [
    {
     "name": "stdout",
     "output_type": "stream",
     "text": [
      "Total 4 angka yang anda masukkan : 50\n"
     ]
    }
   ],
   "source": [
    "#contoh 3.35\n",
    "\n",
    "angka_1, angka_2, angka_3, angka_4 = [1, 2, 3, 4]\n",
    "print(\"Total 4 angka yang anda masukkan :\",angka_1*5+angka_2*5+angka_3*5+angka_4*5)"
   ]
  },
  {
   "cell_type": "code",
   "execution_count": 16,
   "id": "dfdb8d50",
   "metadata": {},
   "outputs": [
    {
     "name": "stdout",
     "output_type": "stream",
     "text": [
      "Selamat Datang ....\n",
      "\n",
      "Hasil penjumlahan\n",
      "7\n",
      "\n",
      "Hasil pengurangan : 15\n",
      "\n",
      "1 2\n"
     ]
    }
   ],
   "source": [
    "#contoh 3.36\n",
    "\n",
    "print(\"Selamat Datang ....\\n\")\n",
    "print(\"Hasil penjumlahan\")\n",
    "print(3+4)\n",
    "print()\n",
    "print(\"Hasil pengurangan :\", 20-5)\n",
    "print()\n",
    "a, b = 1, 2\n",
    "print(a, b)"
   ]
  },
  {
   "cell_type": "code",
   "execution_count": 17,
   "id": "b66dda27",
   "metadata": {},
   "outputs": [
    {
     "name": "stdout",
     "output_type": "stream",
     "text": [
      "Selamat belajar\n"
     ]
    }
   ],
   "source": [
    "#contoh 3.40\n",
    "\n",
    "print(\"Selamat belajar\")"
   ]
  },
  {
   "cell_type": "code",
   "execution_count": 18,
   "id": "af176dca",
   "metadata": {},
   "outputs": [
    {
     "name": "stdout",
     "output_type": "stream",
     "text": [
      "Selamat belajarPemrogaman\n"
     ]
    }
   ],
   "source": [
    "#contoh 3.41\n",
    "\n",
    "print(\"Selamat belajar\" + \"Pemrogaman\")"
   ]
  },
  {
   "cell_type": "code",
   "execution_count": 19,
   "id": "ef0d58bb",
   "metadata": {},
   "outputs": [
    {
     "name": "stdout",
     "output_type": "stream",
     "text": [
      "Nama [0] : I\n",
      "Ibu Kartini menulis :  surat \n"
     ]
    }
   ],
   "source": [
    "#contoh 3.42\n",
    "\n",
    "nama = (\"Ibu Kita Kartini\")\n",
    "pesan = (\"Ibu Kartini menulis surat \")\n",
    "print(\"Nama [0] :\", nama[0])\n",
    "print(\"Ibu Kartini menulis : \", pesan [20:])"
   ]
  },
  {
   "cell_type": "code",
   "execution_count": 20,
   "id": "48dc9e7f",
   "metadata": {},
   "outputs": [
    {
     "name": "stdout",
     "output_type": "stream",
     "text": [
      "Masukkan nilai jari-jari :5\n",
      "Luas lingkaran adalah 78.53975\n"
     ]
    }
   ],
   "source": [
    "#contoh 3.45 menghitung luas lingkaran (perhitungan 1)\n",
    "input_jari_jari = input (\"Masukkan nilai jari-jari :\")\n",
    "jari_jari = float(input_jari_jari)\n",
    "luas_lingkaran = 3.14159*jari_jari**2\n",
    "print(\"Luas lingkaran adalah\", luas_lingkaran)"
   ]
  },
  {
   "cell_type": "code",
   "execution_count": 21,
   "id": "64635772",
   "metadata": {},
   "outputs": [
    {
     "name": "stdout",
     "output_type": "stream",
     "text": [
      "Masukkan nilai jari-jari : 5\n",
      "Luas lingkaran adalah 78.53975\n"
     ]
    }
   ],
   "source": [
    "#contoh 3.46 menghitung luas Lingkaran (Perhitungan 2)\n",
    "jari_jari = float(input(\"Masukkan nilai jari-jari : \"))\n",
    "luas_lingkaran = 3.14159*jari_jari**2\n",
    "print(\"Luas lingkaran adalah\", luas_lingkaran)"
   ]
  },
  {
   "cell_type": "code",
   "execution_count": 22,
   "id": "a66adfc4",
   "metadata": {},
   "outputs": [
    {
     "name": "stdout",
     "output_type": "stream",
     "text": [
      "Masukkan nilai jari-jari :5\n",
      "Luas lingkaran adalah  78.53975\n"
     ]
    }
   ],
   "source": [
    "#contoh 3.47 menghitung luas lingkaran (Perhitungan 3)\n",
    "print(\"Luas lingkaran adalah \", 3.14159*float(input(\"Masukkan nilai jari-jari :\"))**2)"
   ]
  },
  {
   "cell_type": "code",
   "execution_count": null,
   "id": "8647550c",
   "metadata": {},
   "outputs": [],
   "source": []
  }
 ],
 "metadata": {
  "kernelspec": {
   "display_name": "Python 3 (ipykernel)",
   "language": "python",
   "name": "python3"
  },
  "language_info": {
   "codemirror_mode": {
    "name": "ipython",
    "version": 3
   },
   "file_extension": ".py",
   "mimetype": "text/x-python",
   "name": "python",
   "nbconvert_exporter": "python",
   "pygments_lexer": "ipython3",
   "version": "3.9.13"
  }
 },
 "nbformat": 4,
 "nbformat_minor": 5
}
